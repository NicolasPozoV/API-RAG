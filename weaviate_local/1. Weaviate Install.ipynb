{
 "cells": [
  {
   "cell_type": "code",
   "execution_count": null,
   "id": "dee1b16e-821c-4cfa-9931-eca9bc004814",
   "metadata": {},
   "outputs": [],
   "source": [
    "%pip install -U weaviate-client"
   ]
  },
  {
   "cell_type": "code",
   "execution_count": null,
   "id": "8507f56e-5167-4856-8c42-c078dd7dd9c9",
   "metadata": {},
   "outputs": [],
   "source": [
    "import weaviate\n",
    "print(f\"Versión del cliente de Weaviate: {weaviate.__version__}\")\n",
    "\n"
   ]
  }
 ],
 "metadata": {
  "kernelspec": {
   "display_name": "Python 3",
   "language": "python",
   "name": "python3"
  },
  "language_info": {
   "codemirror_mode": {
    "name": "ipython",
    "version": 3
   },
   "file_extension": ".py",
   "mimetype": "text/x-python",
   "name": "python",
   "nbconvert_exporter": "python",
   "pygments_lexer": "ipython3",
   "version": "3.11.9"
  }
 },
 "nbformat": 4,
 "nbformat_minor": 5
}
