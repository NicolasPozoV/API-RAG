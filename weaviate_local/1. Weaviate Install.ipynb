{
 "cells": [
  {
   "cell_type": "code",
   "execution_count": 2,
   "id": "dee1b16e-821c-4cfa-9931-eca9bc004814",
   "metadata": {},
   "outputs": [
    {
     "name": "stdout",
     "output_type": "stream",
     "text": [
      "Defaulting to user installation because normal site-packages is not writeable\n",
      "Requirement already satisfied: weaviate-client in c:\\users\\josis\\appdata\\roaming\\python\\python313\\site-packages (4.14.4)\n",
      "Requirement already satisfied: httpx<0.29.0,>=0.26.0 in c:\\users\\josis\\appdata\\roaming\\python\\python313\\site-packages (from weaviate-client) (0.28.1)\n",
      "Requirement already satisfied: validators==0.34.0 in c:\\users\\josis\\appdata\\roaming\\python\\python313\\site-packages (from weaviate-client) (0.34.0)\n",
      "Requirement already satisfied: authlib<1.3.2,>=1.2.1 in c:\\users\\josis\\appdata\\roaming\\python\\python313\\site-packages (from weaviate-client) (1.3.1)\n",
      "Requirement already satisfied: pydantic<3.0.0,>=2.8.0 in c:\\users\\josis\\appdata\\roaming\\python\\python313\\site-packages (from weaviate-client) (2.11.5)\n",
      "Requirement already satisfied: grpcio<2.0.0,>=1.66.2 in c:\\users\\josis\\appdata\\roaming\\python\\python313\\site-packages (from weaviate-client) (1.71.0)\n",
      "Requirement already satisfied: grpcio-tools<2.0.0,>=1.66.2 in c:\\users\\josis\\appdata\\roaming\\python\\python313\\site-packages (from weaviate-client) (1.71.0)\n",
      "Requirement already satisfied: grpcio-health-checking<2.0.0,>=1.66.2 in c:\\users\\josis\\appdata\\roaming\\python\\python313\\site-packages (from weaviate-client) (1.71.0)\n",
      "Requirement already satisfied: deprecation<3.0.0,>=2.1.0 in c:\\users\\josis\\appdata\\roaming\\python\\python313\\site-packages (from weaviate-client) (2.1.0)\n",
      "Requirement already satisfied: cryptography in c:\\users\\josis\\appdata\\roaming\\python\\python313\\site-packages (from authlib<1.3.2,>=1.2.1->weaviate-client) (45.0.3)\n",
      "Requirement already satisfied: packaging in c:\\users\\josis\\appdata\\roaming\\python\\python313\\site-packages (from deprecation<3.0.0,>=2.1.0->weaviate-client) (25.0)\n",
      "Requirement already satisfied: protobuf<6.0dev,>=5.26.1 in c:\\users\\josis\\appdata\\roaming\\python\\python313\\site-packages (from grpcio-health-checking<2.0.0,>=1.66.2->weaviate-client) (5.29.5)\n",
      "Requirement already satisfied: setuptools in c:\\users\\josis\\appdata\\roaming\\python\\python313\\site-packages (from grpcio-tools<2.0.0,>=1.66.2->weaviate-client) (80.9.0)\n",
      "Requirement already satisfied: anyio in c:\\users\\josis\\appdata\\roaming\\python\\python313\\site-packages (from httpx<0.29.0,>=0.26.0->weaviate-client) (4.9.0)\n",
      "Requirement already satisfied: certifi in c:\\users\\josis\\appdata\\roaming\\python\\python313\\site-packages (from httpx<0.29.0,>=0.26.0->weaviate-client) (2025.4.26)\n",
      "Requirement already satisfied: httpcore==1.* in c:\\users\\josis\\appdata\\roaming\\python\\python313\\site-packages (from httpx<0.29.0,>=0.26.0->weaviate-client) (1.0.9)\n",
      "Requirement already satisfied: idna in c:\\users\\josis\\appdata\\roaming\\python\\python313\\site-packages (from httpx<0.29.0,>=0.26.0->weaviate-client) (3.10)\n",
      "Requirement already satisfied: h11>=0.16 in c:\\users\\josis\\appdata\\roaming\\python\\python313\\site-packages (from httpcore==1.*->httpx<0.29.0,>=0.26.0->weaviate-client) (0.16.0)\n",
      "Requirement already satisfied: annotated-types>=0.6.0 in c:\\users\\josis\\appdata\\roaming\\python\\python313\\site-packages (from pydantic<3.0.0,>=2.8.0->weaviate-client) (0.7.0)\n",
      "Requirement already satisfied: pydantic-core==2.33.2 in c:\\users\\josis\\appdata\\roaming\\python\\python313\\site-packages (from pydantic<3.0.0,>=2.8.0->weaviate-client) (2.33.2)\n",
      "Requirement already satisfied: typing-extensions>=4.12.2 in c:\\users\\josis\\appdata\\roaming\\python\\python313\\site-packages (from pydantic<3.0.0,>=2.8.0->weaviate-client) (4.13.2)\n",
      "Requirement already satisfied: typing-inspection>=0.4.0 in c:\\users\\josis\\appdata\\roaming\\python\\python313\\site-packages (from pydantic<3.0.0,>=2.8.0->weaviate-client) (0.4.1)\n",
      "Requirement already satisfied: sniffio>=1.1 in c:\\users\\josis\\appdata\\roaming\\python\\python313\\site-packages (from anyio->httpx<0.29.0,>=0.26.0->weaviate-client) (1.3.1)\n",
      "Requirement already satisfied: cffi>=1.14 in c:\\users\\josis\\appdata\\roaming\\python\\python313\\site-packages (from cryptography->authlib<1.3.2,>=1.2.1->weaviate-client) (1.17.1)\n",
      "Requirement already satisfied: pycparser in c:\\users\\josis\\appdata\\roaming\\python\\python313\\site-packages (from cffi>=1.14->cryptography->authlib<1.3.2,>=1.2.1->weaviate-client) (2.22)\n",
      "Note: you may need to restart the kernel to use updated packages.\n"
     ]
    },
    {
     "name": "stderr",
     "output_type": "stream",
     "text": [
      "C:\\Users\\josis\\AppData\\Roaming\\Python\\Python313\\site-packages\\IPython\\utils\\_process_win32.py:138: ResourceWarning: unclosed file <_io.BufferedWriter name=3>\n",
      "  res = process_handler(cmd, _system_body)\n",
      "ResourceWarning: Enable tracemalloc to get the object allocation traceback\n",
      "C:\\Users\\josis\\AppData\\Roaming\\Python\\Python313\\site-packages\\IPython\\utils\\_process_win32.py:138: ResourceWarning: unclosed file <_io.BufferedReader name=4>\n",
      "  res = process_handler(cmd, _system_body)\n",
      "ResourceWarning: Enable tracemalloc to get the object allocation traceback\n",
      "C:\\Users\\josis\\AppData\\Roaming\\Python\\Python313\\site-packages\\IPython\\utils\\_process_win32.py:138: ResourceWarning: unclosed file <_io.BufferedReader name=5>\n",
      "  res = process_handler(cmd, _system_body)\n",
      "ResourceWarning: Enable tracemalloc to get the object allocation traceback\n"
     ]
    }
   ],
   "source": [
    "%pip install -U weaviate-client"
   ]
  },
  {
   "cell_type": "code",
   "execution_count": 3,
   "id": "8507f56e-5167-4856-8c42-c078dd7dd9c9",
   "metadata": {},
   "outputs": [
    {
     "name": "stdout",
     "output_type": "stream",
     "text": [
      "Versión del cliente de Weaviate: 4.14.4\n"
     ]
    }
   ],
   "source": [
    "import weaviate\n",
    "print(f\"Versión del cliente de Weaviate: {weaviate.__version__}\")\n",
    "\n"
   ]
  }
 ],
 "metadata": {
  "kernelspec": {
   "display_name": "Python 3",
   "language": "python",
   "name": "python3"
  },
  "language_info": {
   "codemirror_mode": {
    "name": "ipython",
    "version": 3
   },
   "file_extension": ".py",
   "mimetype": "text/x-python",
   "name": "python",
   "nbconvert_exporter": "python",
   "pygments_lexer": "ipython3",
   "version": "3.11.9"
  }
 },
 "nbformat": 4,
 "nbformat_minor": 5
}
