{
 "cells": [
  {
   "cell_type": "code",
   "execution_count": null,
   "id": "cc240e3e-077b-4687-b50c-a4a4cb01a1b9",
   "metadata": {},
   "outputs": [],
   "source": [
    "import fitz  # PyMuPDF\n",
    "import os\n",
    "\n",
    "def extract_texts_from_folder(folder_path):\n",
    "    pdf_texts = {}\n",
    "\n",
    "    for filename in os.listdir(folder_path):\n",
    "        if filename.lower().endswith(\".pdf\"):\n",
    "            full_path = os.path.join(folder_path, filename)\n",
    "            try:\n",
    "                doc = fitz.open(full_path)\n",
    "                pages = [page.get_text().strip() for page in doc if page.get_text().strip()]\n",
    "                pdf_texts[filename] = pages\n",
    "            except Exception as e:\n",
    "                print(f\"Error procesando {filename}: {e}\")\n",
    "\n",
    "    return pdf_texts  # Diccionario: nombre_archivo → lista de páginas\n",
    "\n",
    "# Usar con tu carpeta 'PDF'\n",
    "pdf_folder = \"PDF\"\n",
    "pdf_text_data = extract_texts_from_folder(pdf_folder)\n",
    "\n",
    "# Ver ejemplo\n",
    "for nombre, paginas in pdf_text_data.items():\n",
    "    print(f\"{nombre} - {len(paginas)} páginas\")\n",
    "    print(paginas[0][:300])  # Muestra los primeros caracteres de la primera página\n",
    "    break\n"
   ]
  },
  {
   "cell_type": "code",
   "execution_count": null,
   "id": "fdf5eaf5-10a6-423a-aabd-560bfa0c0577",
   "metadata": {},
   "outputs": [],
   "source": [
    "import weaviate\n",
    "from weaviate.classes.config import Property, DataType\n",
    "\n",
    "with weaviate.connect_to_local() as client:\n",
    "\n",
    "    # Eliminar la colección si ya existe\n",
    "    if client.collections.exists(\"PdfPage\"):\n",
    "        client.collections.delete(\"PdfPage\")\n",
    "\n",
    "    # Crear una nueva colección\n",
    "    client.collections.create(\n",
    "        name=\"PdfPage\",\n",
    "        properties=[\n",
    "            Property(name=\"content\", data_type=DataType.TEXT),\n",
    "            Property(name=\"source\", data_type=DataType.TEXT),\n",
    "            Property(name=\"page_number\", data_type=DataType.INT)\n",
    "        ]\n",
    "    )\n",
    "\n",
    "    print(\"✅ Colección 'PdfPage' creada correctamente.\")\n"
   ]
  },
  {
   "cell_type": "code",
   "execution_count": null,
   "id": "0071b33b-6032-4b34-9315-72d23f8b442a",
   "metadata": {},
   "outputs": [],
   "source": [
    "\n",
    "with weaviate.connect_to_local() as client:\n",
    "    collection = client.collections.get(\"PdfPage\")\n",
    "\n",
    "    for nombre_archivo, paginas in pdf_text_data.items():\n",
    "        for i, texto in enumerate(paginas):\n",
    "            collection.data.insert({\n",
    "                \"content\": texto,\n",
    "                \"source\": nombre_archivo,\n",
    "                \"page_number\": i + 1\n",
    "            })\n",
    "\n",
    "print(\"📚 Todos los PDFs fueron cargados en Weaviate correctamente.\")"
   ]
  },
  {
   "cell_type": "code",
   "execution_count": null,
   "id": "6a8a0153-fc98-4077-969b-32c9aa9e02b1",
   "metadata": {},
   "outputs": [],
   "source": [
    "import weaviate\n",
    "from weaviate.classes.query import Filter\n",
    "\n",
    "palabra_clave = \"cliente\"\n",
    "\n",
    "with weaviate.connect_to_local() as client:\n",
    "    collection = client.collections.get(\"PdfPage\")\n",
    "\n",
    "    filtro = Filter.by_property(\"content\").like(f\"*{palabra_clave}*\")\n",
    "\n",
    "    resultados = collection.query.fetch_objects(\n",
    "        filters=filtro,\n",
    "        limit=5\n",
    "    )\n",
    "\n",
    "for obj in resultados.objects:\n",
    "    print(f\"{obj.properties['source']} (Página {obj.properties['page_number']}):\")\n",
    "    print(obj.properties['content'][:3000], \"\\n---\\n\")\n"
   ]
  }
 ],
 "metadata": {
  "kernelspec": {
   "display_name": "Python 3",
   "language": "python",
   "name": "python3"
  },
  "language_info": {
   "codemirror_mode": {
    "name": "ipython",
    "version": 3
   },
   "file_extension": ".py",
   "mimetype": "text/x-python",
   "name": "python",
   "nbconvert_exporter": "python",
   "pygments_lexer": "ipython3",
   "version": "3.11.9"
  }
 },
 "nbformat": 4,
 "nbformat_minor": 5
}
